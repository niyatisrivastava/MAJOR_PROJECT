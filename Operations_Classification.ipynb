{
  "nbformat": 4,
  "nbformat_minor": 0,
  "metadata": {
    "colab": {
      "name": "Operations Classification",
      "provenance": [],
      "collapsed_sections": [],
      "authorship_tag": "ABX9TyNkceFwd9a4I5sYao72ZI9a",
      "include_colab_link": true
    },
    "kernelspec": {
      "display_name": "Python 3",
      "name": "python3"
    },
    "language_info": {
      "name": "python"
    }
  },
  "cells": [
    {
      "cell_type": "markdown",
      "metadata": {
        "id": "view-in-github",
        "colab_type": "text"
      },
      "source": [
        "<a href=\"https://colab.research.google.com/github/niyatisrivastava/MAJOR_PROJECT/blob/main/Operations_Classification.ipynb\" target=\"_parent\"><img src=\"https://colab.research.google.com/assets/colab-badge.svg\" alt=\"Open In Colab\"/></a>"
      ]
    },
    {
      "cell_type": "code",
      "metadata": {
        "colab": {
          "base_uri": "https://localhost:8080/",
          "height": 128
        },
        "id": "ja8p3DTOVZLD",
        "outputId": "eefa43a1-db46-47db-f302-93716ba4e550"
      },
      "source": [
        "git remote add origin https://github.com/niyatisrivastava/Operator-Clasification.git\n",
        "git branch -M main\n",
        "git push -u origin main"
      ],
      "execution_count": 2,
      "outputs": [
        {
          "output_type": "error",
          "ename": "SyntaxError",
          "evalue": "ignored",
          "traceback": [
            "\u001b[0;36m  File \u001b[0;32m\"<ipython-input-2-e46b29c66307>\"\u001b[0;36m, line \u001b[0;32m1\u001b[0m\n\u001b[0;31m    git remote add origin https://github.com/niyatisrivastava/Operator-Clasification.git\u001b[0m\n\u001b[0m             ^\u001b[0m\n\u001b[0;31mSyntaxError\u001b[0m\u001b[0;31m:\u001b[0m invalid syntax\n"
          ]
        }
      ]
    },
    {
      "cell_type": "code",
      "metadata": {
        "id": "L7hKHCUIlv1H"
      },
      "source": [
        "import tensorflow as tf\n",
        "\n",
        "from tensorflow.keras import datasets, layers, models\n",
        "import matplotlib.pyplot as plt\n",
        "import pandas as pd\n"
      ],
      "execution_count": null,
      "outputs": []
    },
    {
      "cell_type": "code",
      "metadata": {
        "colab": {
          "base_uri": "https://localhost:8080/"
        },
        "id": "Qjp2WncXmnf0",
        "outputId": "b593dbd7-0b36-4bc3-fd6b-2b2f4461c494"
      },
      "source": [
        "from google.colab import drive\n",
        "drive.mount('/content/gdrive')"
      ],
      "execution_count": null,
      "outputs": [
        {
          "output_type": "stream",
          "text": [
            "Mounted at /content/gdrive\n"
          ],
          "name": "stdout"
        }
      ]
    },
    {
      "cell_type": "code",
      "metadata": {
        "id": "BpsXudl16PkQ"
      },
      "source": [
        "import os\n",
        "os.environ['KAGGLE_CONFIG_DIR'] = \"/content/gdrive/My Drive\"\n",
        "# /content/gdrive/My Drive/Kaggle is the path where kaggle.json is present in the Google Drive\n"
      ],
      "execution_count": null,
      "outputs": []
    },
    {
      "cell_type": "code",
      "metadata": {
        "colab": {
          "base_uri": "https://localhost:8080/"
        },
        "id": "u5wZ3WIX6S2V",
        "outputId": "0922e206-5939-4a2a-ecd4-ba67cfe43832"
      },
      "source": [
        "#changing the working directory\n",
        "%cd /content/gdrive/My Drive\n",
        "#Check the present working directory using pwd command"
      ],
      "execution_count": null,
      "outputs": [
        {
          "output_type": "stream",
          "text": [
            "/content/gdrive/My Drive\n"
          ],
          "name": "stdout"
        }
      ]
    },
    {
      "cell_type": "code",
      "metadata": {
        "id": "XwX5Xg9aOCzv"
      },
      "source": [
        "from PIL import Image"
      ],
      "execution_count": null,
      "outputs": []
    },
    {
      "cell_type": "code",
      "metadata": {
        "id": "usto3hOmMUM5"
      },
      "source": [
        "\n",
        "import numpy as np\n",
        " \n",
        " # Img = Image.open ( \"1.jpg\") # open the image of PIL Image.open\n",
        "img = Image.open(\"/content/gdrive/MyDrive/operators/10/9989.jpg\", 'r').convert('RGB')\n",
        " \n",
        " #image_arr = np.array (img) # is converted into an array numpy\n",
        "img = np.asarray(img, 'float32')"
      ],
      "execution_count": null,
      "outputs": []
    },
    {
      "cell_type": "code",
      "metadata": {
        "id": "U8MRo_t3OjbK"
      },
      "source": [
        "img = img/255"
      ],
      "execution_count": null,
      "outputs": []
    },
    {
      "cell_type": "code",
      "metadata": {
        "colab": {
          "base_uri": "https://localhost:8080/",
          "height": 536
        },
        "id": "tHocSEg6Oyow",
        "outputId": "26ea0da7-50e0-47be-ce2c-0b9bc47c7323"
      },
      "source": [
        "plt.figure(figsize=(10,10))\n",
        "plt.imshow(img)\n",
        "plt.show()"
      ],
      "execution_count": null,
      "outputs": [
        {
          "output_type": "display_data",
          "data": {
            "image/png": "[encoded data removed]",
            "text/plain": [
              "<Figure size 720x720 with 1 Axes>"
            ]
          },
          "metadata": {
            "tags": [],
            "needs_background": "light"
          }
        }
      ]
    },
    {
      "cell_type": "code",
      "metadata": {
        "id": "XFUqsLbKe4mK",
        "colab": {
          "base_uri": "https://localhost:8080/"
        },
        "outputId": "22c9fae0-abca-42b8-d5e3-3bf499a9e419"
      },
      "source": [
        "import numpy as np\n",
        "from glob import glob \n",
        "import cv2\n",
        "class_names = ['10', '11', '12', '13']\n",
        "\n",
        " # Img = Image.open ( \"1.jpg\") # open the image of PIL Image.open\n",
        "TRAIN_DATA_DIR = '/content/gdrive/MyDrive/operators/*/*.jpg'\n",
        "data = glob(TRAIN_DATA_DIR)\n",
        "training_data=[]\n",
        "training_label=[]\n",
        "\n",
        "data_count= len(data)\n",
        "for d in data:\n",
        "    training_data.append(cv2.resize(cv2.imread(d),(32,32)))\n",
        "    training_label.append(d.split('/')[-2])\n",
        "print(\"Data Read Complete\")\n",
        "training_data = np.asarray(training_data)\n",
        "training_label = pd.DataFrame(training_label)"
      ],
      "execution_count": null,
      "outputs": [
        {
          "output_type": "stream",
          "text": [
            "Data Read Complete\n"
          ],
          "name": "stdout"
        }
      ]
    },
    {
      "cell_type": "code",
      "metadata": {
        "id": "vXozN0FfhRfd",
        "colab": {
          "base_uri": "https://localhost:8080/"
        },
        "outputId": "533947a9-65d7-4c53-98c9-cd19f1ce234e"
      },
      "source": [
        "training_data = np.asarray(training_data, 'float32')\n",
        "training_data = training_data/255\n",
        "training_data.shape\n"
      ],
      "execution_count": null,
      "outputs": [
        {
          "output_type": "execute_result",
          "data": {
            "text/plain": [
              "(2193, 32, 32, 3)"
            ]
          },
          "metadata": {
            "tags": []
          },
          "execution_count": 63
        }
      ]
    },
    {
      "cell_type": "code",
      "metadata": {
        "colab": {
          "base_uri": "https://localhost:8080/",
          "height": 283
        },
        "id": "sZI8jsgRLLoZ",
        "outputId": "9f369795-14c3-4a54-dce1-7b0bb82f272d"
      },
      "source": [
        "plt.imshow(training_data[1])"
      ],
      "execution_count": null,
      "outputs": [
        {
          "output_type": "execute_result",
          "data": {
            "text/plain": [
              "<matplotlib.image.AxesImage at 0x7f63275bf710>"
            ]
          },
          "metadata": {
            "tags": []
          },
          "execution_count": 64
        },
        {
          "output_type": "display_data",
          "data": {
            "image/png": "[encoded data removed]",
            "text/plain": [
              "<Figure size 432x288 with 1 Axes>"
            ]
          },
          "metadata": {
            "tags": [],
            "needs_background": "light"
          }
        }
      ]
    },
    {
      "cell_type": "code",
      "metadata": {
        "colab": {
          "base_uri": "https://localhost:8080/",
          "height": 1000
        },
        "id": "t9L1BbWvLEkK",
        "outputId": "0c0e45ab-643d-4ca2-bb4d-ad14f54c49a3"
      },
      "source": [
        "plt.figure(figsize=(10,10))\n",
        "for i in range(5):\n",
        "    plt.imshow(training_data[i])\n",
        "    #plt.xlabel(class_names[training_label[i][0]])\n",
        "    plt.show()"
      ],
      "execution_count": null,
      "outputs": [
        {
          "output_type": "display_data",
          "data": {
            "image/png": "[encoded data removed]",
            "text/plain": [
              "<Figure size 720x720 with 1 Axes>"
            ]
          },
          "metadata": {
            "tags": [],
            "needs_background": "light"
          }
        },
        {
          "output_type": "display_data",
          "data": {
            "image/png": "[encoded data removed]",
            "text/plain": [
              "<Figure size 432x288 with 1 Axes>"
            ]
          },
          "metadata": {
            "tags": [],
            "needs_background": "light"
          }
        },
        {
          "output_type": "display_data",
          "data": {
            "image/png": "[encoded data removed]",
            "text/plain": [
              "<Figure size 432x288 with 1 Axes>"
            ]
          },
          "metadata": {
            "tags": [],
            "needs_background": "light"
          }
        },
        {
          "output_type": "display_data",
          "data": {
            "image/png": "[encoded data removed]",
            "text/plain": [
              "<Figure size 432x288 with 1 Axes>"
            ]
          },
          "metadata": {
            "tags": [],
            "needs_background": "light"
          }
        },
        {
          "output_type": "display_data",
          "data": {
            "image/png": "[encoded data removed]",
            "text/plain": [
              "<Figure size 432x288 with 1 Axes>"
            ]
          },
          "metadata": {
            "tags": [],
            "needs_background": "light"
          }
        }
      ]
    },
    {
      "cell_type": "code",
      "metadata": {
        "id": "In6H6EVTWvEQ"
      },
      "source": [
        "from sklearn.model_selection import train_test_split\n",
        "X_train, X_test, y_train, y_test = train_test_split(training_data, training_label, test_size=0.1)"
      ],
      "execution_count": null,
      "outputs": []
    },
    {
      "cell_type": "code",
      "metadata": {
        "id": "6GDNewwF5fZj"
      },
      "source": [
        "import numpy\n",
        "from keras.models import Sequential\n",
        "from keras.layers import Dense\n",
        "from keras.layers import Dropout\n",
        "from keras.layers import Flatten\n",
        "from keras.layers.convolutional import Conv2D\n",
        "from keras.layers.convolutional import MaxPooling2D\n",
        "from keras.layers import BatchNormalization"
      ],
      "execution_count": null,
      "outputs": []
    },
    {
      "cell_type": "code",
      "metadata": {
        "colab": {
          "base_uri": "https://localhost:8080/"
        },
        "id": "xlYU3Y6b7ULq",
        "outputId": "bd94e40f-79df-41c0-d9cf-ca5ee6bbd93a"
      },
      "source": [
        "y_test_coded = pd.get_dummies(y_test)\n",
        "y_train_coded = pd.get_dummies(y_train)\n",
        "print(y_train.shape)\n",
        "print(X_train.shape)"
      ],
      "execution_count": null,
      "outputs": [
        {
          "output_type": "stream",
          "text": [
            "(1973, 1)\n",
            "(1973, 32, 32, 3)\n"
          ],
          "name": "stdout"
        }
      ]
    },
    {
      "cell_type": "code",
      "metadata": {
        "colab": {
          "base_uri": "https://localhost:8080/",
          "height": 266
        },
        "id": "RW9mbAarFkID",
        "outputId": "744651dc-2742-4374-dda2-98ad2aecf4ec"
      },
      "source": [
        "import matplotlib.pyplot as plt\n",
        "im = cv2.resize(cv2.imread('/content/2.2.jpg'),(32,32))\n",
        "plt.imshow(im)\n",
        "im.shape\n",
        "im_second = im[0:128, 128:256]\n",
        "#plt.imshow(im_second)\n",
        "#im_second(cv2.resize(cv2.imread(d),(32,32)))"
      ],
      "execution_count": null,
      "outputs": [
        {
          "output_type": "display_data",
          "data": {
            "image/png": "[encoded data removed]",
            "text/plain": [
              "<Figure size 432x288 with 1 Axes>"
            ]
          },
          "metadata": {
            "tags": [],
            "needs_background": "light"
          }
        }
      ]
    },
    {
      "cell_type": "code",
      "metadata": {
        "colab": {
          "base_uri": "https://localhost:8080/"
        },
        "id": "ytvsqRI5xX-g",
        "outputId": "a02d7559-6605-4bf3-896c-ca69b68f143e"
      },
      "source": [
        "im_test = np.asarray(im, 'float32')\n",
        "im_test = im_test/255\n",
        "im_test = im_test.reshape(1,32,32,3)\n",
        "im_test.shape"
      ],
      "execution_count": null,
      "outputs": [
        {
          "output_type": "execute_result",
          "data": {
            "text/plain": [
              "(1, 32, 32, 3)"
            ]
          },
          "metadata": {
            "tags": []
          },
          "execution_count": 134
        }
      ]
    },
    {
      "cell_type": "code",
      "metadata": {
        "id": "4naveC0jxMPS"
      },
      "source": [
        "predicted_Y = model.predict(im_test)\n",
        "predYClasses = np.argmax(predicted_Y, axis = 1)"
      ],
      "execution_count": null,
      "outputs": []
    },
    {
      "cell_type": "code",
      "metadata": {
        "colab": {
          "base_uri": "https://localhost:8080/"
        },
        "id": "mRc5TDklxQXg",
        "outputId": "fe809bc1-77c5-40c0-a13d-35a6991251f7"
      },
      "source": [
        "predicted_Y\n",
        "predYClasses"
      ],
      "execution_count": null,
      "outputs": [
        {
          "output_type": "execute_result",
          "data": {
            "text/plain": [
              "array([0])"
            ]
          },
          "metadata": {
            "tags": []
          },
          "execution_count": 53
        }
      ]
    },
    {
      "cell_type": "code",
      "metadata": {
        "id": "QJwp75jkzFZw"
      },
      "source": [
        "classifier = Sequential()\n",
        "classifier.add(Conv2D(64,(3,3),activation='relu',input_shape=(32,32,3)))\n",
        "classifier.add(Conv2D(32,(1,1),activation='relu'))\n",
        "classifier.add(MaxPooling2D((2,2)))\n",
        "classifier.add(Dropout(0.1))\n",
        "classifier.add(Conv2D(32,(3,3),activation='relu'))\n",
        "classifier.add(Conv2D(16,(1,1),activation='relu'))\n",
        "classifier.add(MaxPooling2D((2,2)))\n",
        "classifier.add(Dropout(0.1))\n",
        "classifier.add(BatchNormalization(axis=3))\n",
        "classifier.add(MaxPooling2D((2,2)))\n",
        "classifier.add(Conv2D(16,(1,1),activation='relu'))\n",
        "classifier.add(Dropout(0.1))\n",
        "classifier.add(BatchNormalization(axis=3))\n",
        "classifier.add(Flatten())\n",
        "classifier.add(Dense(128,activation='relu'))\n",
        "classifier.add(Dense(4,activation='softmax'))"
      ],
      "execution_count": null,
      "outputs": []
    },
    {
      "cell_type": "code",
      "metadata": {
        "colab": {
          "base_uri": "https://localhost:8080/"
        },
        "id": "wx1MKe2cz37o",
        "outputId": "a91718a4-21b7-4d50-907a-847d3bcb5b2b"
      },
      "source": [
        "classifier.compile(loss='categorical_crossentropy', optimizer='adam', metrics=['accuracy'])\n",
        "\n",
        "history = classifier.fit(X_train, y_train_coded, validation_data= (X_test, y_test_coded) ,epochs=10)"
      ],
      "execution_count": null,
      "outputs": [
        {
          "output_type": "stream",
          "text": [
            "Epoch 1/10\n",
            "62/62 [==============================] - 7s 87ms/step - loss: 1.1931 - accuracy: 0.4769 - val_loss: 1.3547 - val_accuracy: 0.2318\n",
            "Epoch 2/10\n",
            "62/62 [==============================] - 5s 74ms/step - loss: 0.2689 - accuracy: 0.9116 - val_loss: 1.3273 - val_accuracy: 0.3136\n",
            "Epoch 3/10\n",
            "62/62 [==============================] - 5s 74ms/step - loss: 0.1303 - accuracy: 0.9575 - val_loss: 1.9531 - val_accuracy: 0.2318\n",
            "Epoch 4/10\n",
            "62/62 [==============================] - 5s 76ms/step - loss: 0.0994 - accuracy: 0.9676 - val_loss: 1.3330 - val_accuracy: 0.4909\n",
            "Epoch 5/10\n",
            "62/62 [==============================] - 5s 75ms/step - loss: 0.0764 - accuracy: 0.9748 - val_loss: 1.3906 - val_accuracy: 0.4818\n",
            "Epoch 6/10\n",
            "62/62 [==============================] - 5s 75ms/step - loss: 0.0748 - accuracy: 0.9750 - val_loss: 0.2249 - val_accuracy: 0.9318\n",
            "Epoch 7/10\n",
            "62/62 [==============================] - 5s 76ms/step - loss: 0.0574 - accuracy: 0.9774 - val_loss: 0.3243 - val_accuracy: 0.8636\n",
            "Epoch 8/10\n",
            "62/62 [==============================] - 5s 76ms/step - loss: 0.0449 - accuracy: 0.9878 - val_loss: 0.5540 - val_accuracy: 0.8364\n",
            "Epoch 9/10\n",
            "62/62 [==============================] - 5s 79ms/step - loss: 0.0472 - accuracy: 0.9804 - val_loss: 0.0721 - val_accuracy: 0.9682\n",
            "Epoch 10/10\n",
            "62/62 [==============================] - 5s 80ms/step - loss: 0.0308 - accuracy: 0.9893 - val_loss: 0.0805 - val_accuracy: 0.9545\n"
          ],
          "name": "stdout"
        }
      ]
    },
    {
      "cell_type": "code",
      "metadata": {
        "id": "zDhY4QVX78p0"
      },
      "source": [
        "pred_Y = classifier.predict(im_test)\n",
        "predYC = np.argmax(pred_Y, axis = 1) "
      ],
      "execution_count": null,
      "outputs": []
    },
    {
      "cell_type": "code",
      "metadata": {
        "colab": {
          "base_uri": "https://localhost:8080/"
        },
        "id": "cDhoROW6ymQr",
        "outputId": "d7739124-b819-4d91-f758-5de7de0eddfc"
      },
      "source": [
        "pred_Y"
      ],
      "execution_count": null,
      "outputs": [
        {
          "output_type": "execute_result",
          "data": {
            "text/plain": [
              "array([[9.9819916e-01, 8.4891303e-07, 1.7380699e-03, 6.1961036e-05]],\n",
              "      dtype=float32)"
            ]
          },
          "metadata": {
            "tags": []
          },
          "execution_count": 136
        }
      ]
    },
    {
      "cell_type": "code",
      "metadata": {
        "colab": {
          "base_uri": "https://localhost:8080/"
        },
        "id": "hkM3LX32yadP",
        "outputId": "e337db1a-9f4f-4e45-9fea-0c15e119180f"
      },
      "source": [
        "predYC"
      ],
      "execution_count": null,
      "outputs": [
        {
          "output_type": "execute_result",
          "data": {
            "text/plain": [
              "array([0])"
            ]
          },
          "metadata": {
            "tags": []
          },
          "execution_count": 137
        }
      ]
    }
  ]
}